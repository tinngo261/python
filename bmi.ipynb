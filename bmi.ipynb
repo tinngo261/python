{
 "cells": [
  {
   "cell_type": "code",
   "execution_count": 7,
   "id": "b4c363d0",
   "metadata": {},
   "outputs": [
    {
     "name": "stdout",
     "output_type": "stream",
     "text": [
      "Nhập chiều cao (m): 1.73\n",
      "Nhập cân nặng (kg): 76\n",
      "Chỉ số BMI của bạn là 25.393431120318084\n",
      "Tình trạng cơ thể của bạn là Thừa cân\n"
     ]
    }
   ],
   "source": [
    "cao = float(input(\"Nhập chiều cao (m): \"))\n",
    "nang = int(input(\"Nhập cân nặng (kg): \"))\n",
    "bmi = nang/(cao**2)\n",
    "\n",
    "if bmi < 16:\n",
    "    tinh_trang = \"Gầy cấp độ III\"\n",
    "elif 16 <= bmi < 17:\n",
    "    tinh_trang = \"Gầy cấp độ II\"\n",
    "elif 17 <= bmi < 18.5:\n",
    "    tinh_trang = \"Gầy cấp độ I\"\n",
    "elif 18.5 <= bmi < 25:\n",
    "    tinh_trang = \"Bình thường\"\n",
    "elif 25 <= bmi < 30:\n",
    "    tinh_trang = \"Thừa cân\"\n",
    "elif 30 <= bmi < 35:\n",
    "    tinh_trang = \"Béo phì cấp độ I\"\n",
    "elif 35 <= bmi < 40:\n",
    "    tinh_trang = \"Béo phì cấp độ II\"\n",
    "else:\n",
    "    tinh_trang = \"Béo phì cấp độ III\"\n",
    "    \n",
    "print(f\"Chỉ số BMI của bạn là {bmi}\")\n",
    "print(f\"Tình trạng cơ thể của bạn là {tinh_trang}\")"
   ]
  },
  {
   "cell_type": "code",
   "execution_count": null,
   "id": "a5e859d2",
   "metadata": {},
   "outputs": [],
   "source": []
  },
  {
   "cell_type": "code",
   "execution_count": null,
   "id": "419a3372",
   "metadata": {},
   "outputs": [],
   "source": []
  }
 ],
 "metadata": {
  "kernelspec": {
   "display_name": "Python 3 (ipykernel)",
   "language": "python",
   "name": "python3"
  },
  "language_info": {
   "codemirror_mode": {
    "name": "ipython",
    "version": 3
   },
   "file_extension": ".py",
   "mimetype": "text/x-python",
   "name": "python",
   "nbconvert_exporter": "python",
   "pygments_lexer": "ipython3",
   "version": "3.11.4"
  }
 },
 "nbformat": 4,
 "nbformat_minor": 5
}
