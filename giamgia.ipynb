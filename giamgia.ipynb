{
 "cells": [
  {
   "cell_type": "code",
   "execution_count": 3,
   "id": "47cb810c",
   "metadata": {},
   "outputs": [
    {
     "name": "stdout",
     "output_type": "stream",
     "text": [
      "Nhập số tiền bạn đã chi (USD): 500\n",
      "450\n"
     ]
    }
   ],
   "source": [
    "chitien = int(input(\"Nhập số tiền bạn đã chi (USD): \"))\n",
    "if chitien >= 150:\n",
    "    giamgia = 50\n",
    "elif chitien >= 100:\n",
    "    giamgia = 25\n",
    "elif chitien >= 75:\n",
    "    giamgia = 15\n",
    "    \n",
    "thanhtoan = chitien - giamgia\n",
    "\n",
    "print(thanhtoan)"
   ]
  },
  {
   "cell_type": "code",
   "execution_count": null,
   "id": "1c4fd69c",
   "metadata": {},
   "outputs": [],
   "source": []
  }
 ],
 "metadata": {
  "kernelspec": {
   "display_name": "Python 3 (ipykernel)",
   "language": "python",
   "name": "python3"
  },
  "language_info": {
   "codemirror_mode": {
    "name": "ipython",
    "version": 3
   },
   "file_extension": ".py",
   "mimetype": "text/x-python",
   "name": "python",
   "nbconvert_exporter": "python",
   "pygments_lexer": "ipython3",
   "version": "3.11.4"
  }
 },
 "nbformat": 4,
 "nbformat_minor": 5
}
