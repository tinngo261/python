{
 "cells": [
  {
   "cell_type": "code",
   "execution_count": 3,
   "id": "411ef330",
   "metadata": {},
   "outputs": [],
   "source": [
    "import turtle\n"
   ]
  },
  {
   "cell_type": "code",
   "execution_count": 4,
   "id": "81e23c79",
   "metadata": {},
   "outputs": [
    {
     "data": {
      "text/plain": [
       "<function turtle.mainloop()>"
      ]
     },
     "execution_count": 4,
     "metadata": {},
     "output_type": "execute_result"
    }
   ],
   "source": [
    "t = turtle.Turtle()"
   ]
  },
  {
   "cell_type": "code",
   "execution_count": 5,
   "id": "4821df4f",
   "metadata": {},
   "outputs": [
    {
     "data": {
      "text/plain": [
       "<function turtle.mainloop()>"
      ]
     },
     "execution_count": 5,
     "metadata": {},
     "output_type": "execute_result"
    }
   ],
   "source": [
    "t.forward(s)"
   ]
  },
  {
   "cell_type": "code",
   "execution_count": 6,
   "id": "dba47f6e",
   "metadata": {},
   "outputs": [],
   "source": [
    "t.left(d) "
   ]
  },
  {
   "cell_type": "code",
   "execution_count": null,
   "id": "ccdaeefa",
   "metadata": {},
   "outputs": [],
   "source": [
    "t.left(90) "
   ]
  },
  {
   "cell_type": "code",
   "execution_count": 7,
   "id": "a4a847bc",
   "metadata": {},
   "outputs": [],
   "source": [
    "import turtle \n",
    "t = turtle.Turtle()\n",
    " \n",
    "m = 100;\n",
    "n = 150;\n",
    " \n",
    "# vẽ cạnh đầu tiên\n",
    "t.forward(m) # đi thẳng với m đơn vị\n",
    "t.left(90)   # quay một góc 90 độ\n",
    " \n",
    "# vẽ cạnh thứ hai\n",
    "t.forward(n) # đi thẳng với n đơn vị\n",
    "t.left(90)   # quay một góc 90 độ\n",
    " \n",
    "# vẽ cạnh thứ ba\n",
    "t.forward(m) # đi thẳng với m đơn vị\n",
    "t.left(90)   # quay một góc 90 độ\n",
    " \n",
    "# vẽ cạnh thứ tư\n",
    "t.forward(n) # đi thẳng với n đơn vị\n",
    "t.left(90)   # quay một góc 90 độ"
   ]
  },
  {
   "cell_type": "code",
   "execution_count": null,
   "id": "f1697615",
   "metadata": {},
   "outputs": [],
   "source": []
  }
 ],
 "metadata": {
  "kernelspec": {
   "display_name": "Python 3 (ipykernel)",
   "language": "python",
   "name": "python3"
  },
  "language_info": {
   "codemirror_mode": {
    "name": "ipython",
    "version": 3
   },
   "file_extension": ".py",
   "mimetype": "text/x-python",
   "name": "python",
   "nbconvert_exporter": "python",
   "pygments_lexer": "ipython3",
   "version": "3.11.4"
  }
 },
 "nbformat": 4,
 "nbformat_minor": 5
}
