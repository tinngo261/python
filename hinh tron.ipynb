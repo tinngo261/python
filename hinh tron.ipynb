{
 "cells": [
  {
   "cell_type": "code",
   "execution_count": 3,
   "id": "411ef330",
   "metadata": {},
   "outputs": [],
   "source": [
    "import turtle\n"
   ]
  },
  {
   "cell_type": "code",
   "execution_count": 4,
   "id": "81e23c79",
   "metadata": {},
   "outputs": [
    {
     "data": {
      "text/plain": [
       "<function turtle.mainloop()>"
      ]
     },
     "execution_count": 4,
     "metadata": {},
     "output_type": "execute_result"
    }
   ],
   "source": [
    "#đặt kích thước viền cho hình tròn là 5\n",
    "turtle.pensize (5)\n",
    " \n",
    "#đặt màu sắc cho viền hình tròn là màu đỏ\n",
    "turtle.pencolor (\"red\")\n",
    "\n",
    "#đặt màu nền cho hình tròn là màu xanh\n",
    "turtle.fillcolor (\"blue\")\n",
    "turtle.begin_fill()\n",
    "\n",
    "#đặt bán kính của hình tròn là 100\n",
    "turtle.circle (100)\n",
    "turtle.end_fill()\n",
    "turtle.done"
   ]
  },
  {
   "cell_type": "code",
   "execution_count": 5,
   "id": "4821df4f",
   "metadata": {},
   "outputs": [
    {
     "data": {
      "text/plain": [
       "<function turtle.mainloop()>"
      ]
     },
     "execution_count": 5,
     "metadata": {},
     "output_type": "execute_result"
    }
   ],
   "source": [
    "import turtle\n",
    "\n",
    "#đặt kích thước viền cho hình tròn là 5\n",
    "turtle.pensize (5)\n",
    "\n",
    "#đặt màu sắc cho viền hình tròn là màu xanh\n",
    "turtle.pencolor (\"blue\")\n",
    "\n",
    "#for outer bigger circle\n",
    "#đặt màu nền cho hình tròn là màu đỏ\n",
    "turtle.fillcolor (\"red\")\n",
    "turtle.begin_fill()\n",
    "\n",
    "#đặt bán kính của hình tròn là 150\n",
    "turtle.circle (150)\n",
    "turtle.end_fill()\n",
    "turtle.done"
   ]
  },
  {
   "cell_type": "code",
   "execution_count": 6,
   "id": "dba47f6e",
   "metadata": {},
   "outputs": [],
   "source": [
    "import turtle\n",
    "\n",
    "#đặt kích thước viền cho hình tròn là 5\n",
    "turtle.pensize (5)\n",
    "\n",
    "#đặt màu sắc cho viền hình tròn là màu đỏ\n",
    "turtle.pencolor (\"red\")\n",
    "\n",
    "#tuỳ chỉnh điểm bắt đầu vẽ hình tròn\n",
    "turtle.Turtle().goto(-40, 120)\n",
    "#đặt màu nền cho hình tròn là màu đỏ\n",
    "turtle.fillcolor (\"red\")\n",
    "turtle.begin_fill()\n",
    "\n",
    "#đặt bán kính của hình tròn là 150\n",
    "turtle.circle (150)\n",
    "turtle.end_fill()"
   ]
  },
  {
   "cell_type": "code",
   "execution_count": null,
   "id": "fd7ae26c",
   "metadata": {},
   "outputs": [],
   "source": []
  }
 ],
 "metadata": {
  "kernelspec": {
   "display_name": "Python 3 (ipykernel)",
   "language": "python",
   "name": "python3"
  },
  "language_info": {
   "codemirror_mode": {
    "name": "ipython",
    "version": 3
   },
   "file_extension": ".py",
   "mimetype": "text/x-python",
   "name": "python",
   "nbconvert_exporter": "python",
   "pygments_lexer": "ipython3",
   "version": "3.11.4"
  }
 },
 "nbformat": 4,
 "nbformat_minor": 5
}
