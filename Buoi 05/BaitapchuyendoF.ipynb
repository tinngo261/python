{
 "cells": [
  {
   "cell_type": "code",
   "execution_count": 4,
   "id": "1466a5c3",
   "metadata": {},
   "outputs": [
    {
     "name": "stdout",
     "output_type": "stream",
     "text": [
      "Nhap vao do C:40\n",
      "Độ F tương ứng là:  104.0 °F\n"
     ]
    }
   ],
   "source": [
    "do_C = float(input(\"Nhap vao do C:\"))\n",
    "do_F = ( do_C * 1.8 ) +  32\n",
    "print(\"Độ F tương ứng là: \", do_F, \"°F\")"
   ]
  },
  {
   "cell_type": "code",
   "execution_count": null,
   "id": "6b435093",
   "metadata": {},
   "outputs": [],
   "source": []
  }
 ],
 "metadata": {
  "kernelspec": {
   "display_name": "Python 3 (ipykernel)",
   "language": "python",
   "name": "python3"
  },
  "language_info": {
   "codemirror_mode": {
    "name": "ipython",
    "version": 3
   },
   "file_extension": ".py",
   "mimetype": "text/x-python",
   "name": "python",
   "nbconvert_exporter": "python",
   "pygments_lexer": "ipython3",
   "version": "3.11.4"
  }
 },
 "nbformat": 4,
 "nbformat_minor": 5
}
