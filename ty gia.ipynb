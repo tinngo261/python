{
 "cells": [
  {
   "cell_type": "code",
   "execution_count": 4,
   "id": "59d9ae38",
   "metadata": {},
   "outputs": [
    {
     "name": "stdout",
     "output_type": "stream",
     "text": [
      "Nhập số tiền USD cần đổi: 1000\n",
      "Nhập tỉ giá USD/VND: 23000\n",
      "Số tiền VND theo tỷ giá:  23000000.0\n"
     ]
    }
   ],
   "source": [
    "usd = float(input(\"Nhập số tiền USD cần đổi: \"))\n",
    "rate = float(input(\"Nhập tỉ giá USD/VND: \"))\n",
    "cal = usd*rate\n",
    "\n",
    "print(\"Số tiền VND theo tỷ giá: \", cal)"
   ]
  },
  {
   "cell_type": "code",
   "execution_count": null,
   "id": "0cb7e07c",
   "metadata": {},
   "outputs": [],
   "source": []
  },
  {
   "cell_type": "code",
   "execution_count": null,
   "id": "c3f5e2ab",
   "metadata": {},
   "outputs": [],
   "source": []
  }
 ],
 "metadata": {
  "kernelspec": {
   "display_name": "Python 3 (ipykernel)",
   "language": "python",
   "name": "python3"
  },
  "language_info": {
   "codemirror_mode": {
    "name": "ipython",
    "version": 3
   },
   "file_extension": ".py",
   "mimetype": "text/x-python",
   "name": "python",
   "nbconvert_exporter": "python",
   "pygments_lexer": "ipython3",
   "version": "3.11.4"
  }
 },
 "nbformat": 4,
 "nbformat_minor": 5
}
